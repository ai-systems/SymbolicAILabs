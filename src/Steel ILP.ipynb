{
 "cells": [
  {
   "cell_type": "markdown",
   "metadata": {},
   "source": [
    "# Steel Production\n",
    "### Inductive Logic Programming"
   ]
  },
  {
   "cell_type": "code",
   "execution_count": 2,
   "metadata": {},
   "outputs": [],
   "source": [
    "from trimlogic.predicate import KnowledgeBase\n",
    "from trimlogic.predicate import RuleBasedPredicate\n",
    "from trimlogic.predicate import AtomFactory\n",
    "from trimlogic.foil import  foil\n",
    "from trimlogic.algorithm import fol_bc_ask\n",
    "from helper import assertFollows, print_rules, Temperature, Carbon\n",
    "\n"
   ]
  },
  {
   "cell_type": "code",
   "execution_count": 10,
   "metadata": {},
   "outputs": [
    {
     "name": "stdout",
     "output_type": "stream",
     "text": [
      "\n",
      "Rules for FERRITE :\n",
      "FERRITE(PARAM_0, PARAM_1) :- HIGH_CARBON(PARAM_1), HIGH_TEMPERATURE(PARAM_0).\n"
     ]
    }
   ],
   "source": [
    "#Setting Up Predicates\n",
    "knowledgeBase = KnowledgeBase()\n",
    "\n",
    "highTemp = RuleBasedPredicate('HIGH_TEMPERATURE', (Temperature,))\n",
    "medTemp = RuleBasedPredicate('MEDIUM_TEMPERATURE', (Temperature,))\n",
    "lowTemp = RuleBasedPredicate('LOW_TEMPERATURE', (Temperature,))\n",
    "knowledgeBase.add_all([highTemp,medTemp,lowTemp])\n",
    "\n",
    "highCarbon = RuleBasedPredicate('HIGH_CARBON', (Carbon,))\n",
    "medCarbon = RuleBasedPredicate('MEDIUM_CARBON', (Carbon,))\n",
    "lowCarbon = RuleBasedPredicate('LOW_CARBON', (Carbon,))\n",
    "knowledgeBase.add_all([highCarbon,medCarbon,lowCarbon])\n",
    "\n",
    "#Setting up facts\n",
    "map(highTemp.add_rule, [(Temperature(100),)])\n",
    "map(medTemp.add_rule, [(Temperature(50),)])\n",
    "map(lowTemp.add_rule, [(Temperature(0),)])\n",
    "\n",
    "\n",
    "map(highCarbon.add_rule, [(Carbon(30),)])\n",
    "map(medCarbon.add_rule, [(Carbon(20),)])\n",
    "map(lowCarbon.add_rule, [(Carbon(10),)])\n",
    "    \n",
    "#Testing ferrite\n",
    "ferrite = RuleBasedPredicate('FERRITE', (Temperature,Carbon))\n",
    "knowledgeBase.add(ferrite)\n",
    "\n",
    "positive_tuples = [[Temperature(100),Carbon(30)]]\n",
    "negative_tuples= [\n",
    "    [Temperature(100),Carbon(10)],\n",
    "    [Temperature(100),Carbon(20)],\n",
    "    [Temperature(50),Carbon(30)],\n",
    "    [Temperature(50),Carbon(10)],\n",
    "    [Temperature(0),Carbon(20)]\n",
    "]\n",
    "\n",
    "foil(ferrite, positive_tuples, negative_tuples, knowledgeBase, ordering=None)\n",
    "print_rules(ferrite)\n"
   ]
  },
  {
   "cell_type": "code",
   "execution_count": null,
   "metadata": {},
   "outputs": [],
   "source": []
  }
 ],
 "metadata": {
  "kernelspec": {
   "display_name": "Python 2",
   "language": "python",
   "name": "python2"
  }
 },
 "nbformat": 4,
 "nbformat_minor": 2
}
