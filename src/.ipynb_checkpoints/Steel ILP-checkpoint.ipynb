{
 "cells": [
  {
   "cell_type": "markdown",
   "metadata": {},
   "source": [
    "# Steel Production\n",
    "### Inductive Logic Programming"
   ]
  },
  {
   "cell_type": "code",
   "execution_count": 1,
   "metadata": {},
   "outputs": [],
   "source": [
    "from trimlogic.predicate import KnowledgeBase\n",
    "from trimlogic.predicate import RuleBasedPredicate\n",
    "from trimlogic.predicate import AtomFactory\n",
    "from trimlogic.foil import  foil\n",
    "from trimlogic.algorithm import fol_bc_ask\n",
    "from helper import assertFollows, print_rules, Temperature\n",
    "\n"
   ]
  },
  {
   "cell_type": "code",
   "execution_count": 3,
   "metadata": {},
   "outputs": [
    {
     "name": "stdout",
     "output_type": "stream",
     "text": [
      "\n",
      "Rules for FERRITE :\n",
      "FERRITE(PARAM_0,) :- HIGH_TEMPERATURE(PARAM_0).\n"
     ]
    }
   ],
   "source": [
    "#Setting Up Predicates\n",
    "knowledgeBase = KnowledgeBase()\n",
    "\n",
    "highTemp = RuleBasedPredicate('HIGH_TEMPERATURE', (Temperature,))\n",
    "medTemp = RuleBasedPredicate('MEDIUM_TEMPERATURE', (Temperature,))\n",
    "lowTemp = RuleBasedPredicate('LOW_TEMPERATURE', (Temperature,))\n",
    "\n",
    "highCarbon = RuleBasedPredicate('HIGH_TEMPERATURE', (Temperature,))\n",
    "medCarbon = RuleBasedPredicate('MEDIUM_TEMPERATURE', (Temperature,))\n",
    "lowCarbon = RuleBasedPredicate('LOW_TEMPERATURE', (Temperature,))\n",
    "knowledgeBase.add_all([highTemp,medTemp,lowTemp])\n",
    "\n",
    "#Setting up facts\n",
    "highTemp.rules = []\n",
    "\n",
    "map(highTemp.add_rule, [(Temperature('100'),)])\n",
    "map(medTemp.add_rule, [(Temperature('50'),)])\n",
    "map(lowTemp.add_rule, [(Temperature('0'),)])\n",
    "\n",
    "\n",
    "    \n",
    "#Testing ferrite\n",
    "ferrite = RuleBasedPredicate('FERRITE', (Temperature,))\n",
    "knowledgeBase.add(ferrite)\n",
    "\n",
    "positive_tuples = [[Temperature('100'),]]\n",
    "negative_tuples= [\n",
    "    [Temperature('50'),],\n",
    "    [Temperature('0'),]\n",
    "]\n",
    "\n",
    "foil(ferrite, positive_tuples, negative_tuples, knowledgeBase, ordering=None)\n",
    "print_rules(ferrite)\n"
   ]
  },
  {
   "cell_type": "code",
   "execution_count": null,
   "metadata": {},
   "outputs": [],
   "source": []
  }
 ],
 "metadata": {
  "kernelspec": {
   "display_name": "Python 2",
   "language": "python",
   "name": "python2"
  },
  "language_info": {
   "codemirror_mode": {
    "name": "ipython",
    "version": 2
   },
   "file_extension": ".py",
   "mimetype": "text/x-python",
   "name": "python",
   "nbconvert_exporter": "python",
   "pygments_lexer": "ipython2",
   "version": "2.7.15"
  }
 },
 "nbformat": 4,
 "nbformat_minor": 2
}
